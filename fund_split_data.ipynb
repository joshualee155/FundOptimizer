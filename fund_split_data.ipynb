{
 "cells": [
  {
   "cell_type": "code",
   "execution_count": 1,
   "id": "c2debc98-af5f-4194-8e6f-223b2bc9ebf5",
   "metadata": {},
   "outputs": [],
   "source": [
    "import requests\n",
    "from bs4 import BeautifulSoup"
   ]
  },
  {
   "cell_type": "code",
   "execution_count": 2,
   "id": "ff9fc149-5b49-4c71-96f1-1c1494a593d0",
   "metadata": {},
   "outputs": [
    {
     "name": "stderr",
     "output_type": "stream",
     "text": [
      "/home/azureuser/miniconda3/envs/fundopt/lib/python3.9/site-packages/arctic-1.80.0-py3.9.egg/arctic/store/_pandas_ndarray_store.py:8: FutureWarning: The Panel class is removed from pandas. Accessing it from the top-level namespace will also be removed in the next version\n"
     ]
    }
   ],
   "source": [
    "from arctic import Arctic, CHUNK_STORE\n",
    "lib = Arctic('localhost')\n",
    "fund = lib.get_library('fund')"
   ]
  },
  {
   "cell_type": "code",
   "execution_count": 3,
   "id": "88601ff4-bbf7-45cf-b9e0-d37dd7fd2c73",
   "metadata": {},
   "outputs": [],
   "source": [
    "import pandas as pd"
   ]
  },
  {
   "cell_type": "code",
   "execution_count": 4,
   "id": "0c1256d0-5bc8-4219-9fc2-1f110ac6483b",
   "metadata": {},
   "outputs": [],
   "source": [
    "symbols = fund.list_symbols()"
   ]
  },
  {
   "cell_type": "code",
   "execution_count": 67,
   "id": "120a32d1-e5c7-4c5e-a46d-76ae603d4bbc",
   "metadata": {},
   "outputs": [],
   "source": [
    "def get_fund_split_data(symbol):\n",
    "    url = f'http://fundf10.eastmoney.com/fhsp_{symbol}.html'\n",
    "    res = requests.get(url)\n",
    "    html = BeautifulSoup(res.text)\n",
    "    split_data = html.find('table', attrs={'class':'w782 comm fhxq'})\n",
    "    split = pd.read_html(str(split_data))[0]\n",
    "    \n",
    "    if split.iloc[0,0] == '暂无拆分信息!':\n",
    "        return pd.DataFrame()\n",
    "    \n",
    "    rename = {'年份' : 'year', \n",
    "              '拆分折算日' : 'date', \n",
    "              '拆分类型' : 'splitType', \n",
    "              '拆分折算比例' : 'amount'}\n",
    "\n",
    "    split = split.rename(columns=rename)\n",
    "    \n",
    "    split['date'] = pd.to_datetime(split['date'])\n",
    "    split['amount'] = split['amount'].str.split(':', expand=True)[1].astype(float)\n",
    "\n",
    "    split = split.drop(['year', 'splitType'], axis=1).set_index('date').sort_index()\n",
    "    \n",
    "    return split"
   ]
  },
  {
   "cell_type": "code",
   "execution_count": 73,
   "id": "da98c900-442c-45f7-971f-3de0997cf8f9",
   "metadata": {},
   "outputs": [],
   "source": [
    "def get_fund_div_data(symbol):\n",
    "    \n",
    "    url = 'https://stock.finance.sina.com.cn/fundInfo/api/openapi.php/FundPageInfoService.tabfh'\n",
    "\n",
    "    data_input = {\n",
    "        'symbol' : symbol, \n",
    "        'format' : 'json',\n",
    "    }\n",
    "\n",
    "    resp = requests.get(url, params=data_input)\n",
    "    data = resp.json()\n",
    "    fhdata = data['result']['data']['fhdata']\n",
    "    \n",
    "    if len(fhdata)==0:\n",
    "        return pd.DataFrame()\n",
    "    \n",
    "    div = pd.DataFrame(fhdata).astype({'mffh':float})\n",
    "    \n",
    "    div = div[div['mffh'] > 0.0]\n",
    "    \n",
    "    div = div.drop('fhr', axis=1)\n",
    "\n",
    "    RENAME = {\n",
    "        'djr' : 'date',\n",
    "        'mffh' : 'amount',\n",
    "    }\n",
    "\n",
    "    div = div.rename(columns = RENAME)\n",
    "\n",
    "    div['date'] = pd.to_datetime(div['date'])\n",
    "   \n",
    "    # sort div data frame from old to new\n",
    "    div = div.set_index('date').sort_index()\n",
    "    \n",
    "    return div"
   ]
  },
  {
   "cell_type": "code",
   "execution_count": 74,
   "id": "ee3a93f2-f925-4e14-99eb-04ac33e35634",
   "metadata": {},
   "outputs": [],
   "source": [
    "def get_fund_adj_data(symbol):\n",
    "    split = get_fund_split_data(symbol).assign(type='split')\n",
    "    div = get_fund_div_data(symbol).assign(type='div')\n",
    "    adj = pd.concat([split, div]).sort_index()\n",
    "\n",
    "    return adj"
   ]
  },
  {
   "cell_type": "code",
   "execution_count": 6,
   "id": "0d27e6d6-c917-4210-a3be-d92fe1d6d1b7",
   "metadata": {},
   "outputs": [],
   "source": [
    "import tqdm"
   ]
  },
  {
   "cell_type": "code",
   "execution_count": null,
   "id": "da29a063-d092-4306-9d10-07bbd2baeba6",
   "metadata": {},
   "outputs": [
    {
     "name": "stderr",
     "output_type": "stream",
     "text": [
      " 11%|█         | 183/1668 [04:42<34:59,  1.41s/it]"
     ]
    }
   ],
   "source": [
    "for symbol in tqdm.tqdm(symbols[2131:]):\n",
    "    adj = get_fund_adj_data(symbol)\n",
    "    adj.to_csv(f'adj_temp/{symbol}.csv')"
   ]
  },
  {
   "cell_type": "code",
   "execution_count": 89,
   "id": "2f0b5664-c9d2-47e3-bee3-2be63147264f",
   "metadata": {},
   "outputs": [
    {
     "data": {
      "text/plain": [
       "'003681'"
      ]
     },
     "execution_count": 89,
     "metadata": {},
     "output_type": "execute_result"
    }
   ],
   "source": [
    "symbol"
   ]
  },
  {
   "cell_type": "code",
   "execution_count": 90,
   "id": "efb368b9-a15f-4c5e-a66a-2d5cdaf3e1ce",
   "metadata": {},
   "outputs": [
    {
     "data": {
      "text/html": [
       "<div>\n",
       "<style scoped>\n",
       "    .dataframe tbody tr th:only-of-type {\n",
       "        vertical-align: middle;\n",
       "    }\n",
       "\n",
       "    .dataframe tbody tr th {\n",
       "        vertical-align: top;\n",
       "    }\n",
       "\n",
       "    .dataframe thead th {\n",
       "        text-align: right;\n",
       "    }\n",
       "</style>\n",
       "<table border=\"1\" class=\"dataframe\">\n",
       "  <thead>\n",
       "    <tr style=\"text-align: right;\">\n",
       "      <th></th>\n",
       "      <th>type</th>\n",
       "      <th>amount</th>\n",
       "    </tr>\n",
       "  </thead>\n",
       "  <tbody>\n",
       "    <tr>\n",
       "      <th>2018-12-19</th>\n",
       "      <td>div</td>\n",
       "      <td>0.037</td>\n",
       "    </tr>\n",
       "    <tr>\n",
       "      <th>2020-01-02</th>\n",
       "      <td>div</td>\n",
       "      <td>0.052</td>\n",
       "    </tr>\n",
       "    <tr>\n",
       "      <th>2020-10-26</th>\n",
       "      <td>div</td>\n",
       "      <td>0.040</td>\n",
       "    </tr>\n",
       "    <tr>\n",
       "      <th>2020-11-18</th>\n",
       "      <td>div</td>\n",
       "      <td>0.030</td>\n",
       "    </tr>\n",
       "  </tbody>\n",
       "</table>\n",
       "</div>"
      ],
      "text/plain": [
       "           type  amount\n",
       "2018-12-19  div   0.037\n",
       "2020-01-02  div   0.052\n",
       "2020-10-26  div   0.040\n",
       "2020-11-18  div   0.030"
      ]
     },
     "execution_count": 90,
     "metadata": {},
     "output_type": "execute_result"
    }
   ],
   "source": [
    "get_fund_adj_data(symbol)"
   ]
  },
  {
   "cell_type": "code",
   "execution_count": 91,
   "id": "466d346b-3aaa-4aa0-a647-d3ffb993dad2",
   "metadata": {},
   "outputs": [
    {
     "data": {
      "text/plain": [
       "2131"
      ]
     },
     "execution_count": 91,
     "metadata": {},
     "output_type": "execute_result"
    }
   ],
   "source": [
    "symbols.index(symbol)"
   ]
  },
  {
   "cell_type": "code",
   "execution_count": null,
   "id": "3b6707a3-4521-45c9-8144-34c075c2b429",
   "metadata": {},
   "outputs": [],
   "source": []
  }
 ],
 "metadata": {
  "kernelspec": {
   "display_name": "Python 3",
   "language": "python",
   "name": "python3"
  },
  "language_info": {
   "codemirror_mode": {
    "name": "ipython",
    "version": 3
   },
   "file_extension": ".py",
   "mimetype": "text/x-python",
   "name": "python",
   "nbconvert_exporter": "python",
   "pygments_lexer": "ipython3",
   "version": "3.9.4"
  }
 },
 "nbformat": 4,
 "nbformat_minor": 5
}
