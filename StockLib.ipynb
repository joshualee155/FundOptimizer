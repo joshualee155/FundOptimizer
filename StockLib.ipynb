{
 "cells": [
  {
   "cell_type": "code",
   "execution_count": 1,
   "metadata": {},
   "outputs": [
    {
     "name": "stderr",
     "output_type": "stream",
     "text": [
      "c:\\users\\josh\\source\\repos\\arctic\\arctic\\store\\_pandas_ndarray_store.py:6: FutureWarning: The Panel class is removed from pandas. Accessing it from the top-level namespace will also be removed in the next version\n",
      "  from pandas import DataFrame, Series, Panel\n"
     ]
    }
   ],
   "source": [
    "from arctic import Arctic"
   ]
  },
  {
   "cell_type": "code",
   "execution_count": 2,
   "metadata": {},
   "outputs": [],
   "source": [
    "a = Arctic('localhost')"
   ]
  },
  {
   "cell_type": "code",
   "execution_count": 3,
   "metadata": {},
   "outputs": [],
   "source": [
    "lib = a['stock']"
   ]
  },
  {
   "cell_type": "code",
   "execution_count": 4,
   "metadata": {},
   "outputs": [],
   "source": [
    "all_stocks = lib.list_symbols()"
   ]
  },
  {
   "cell_type": "code",
   "execution_count": 6,
   "metadata": {},
   "outputs": [],
   "source": [
    "df = lib.read(all_stocks[10])"
   ]
  },
  {
   "cell_type": "code",
   "execution_count": 9,
   "metadata": {},
   "outputs": [
    {
     "data": {
      "text/plain": [
       "{'chunk_count': 254,\n",
       " 'len': 5000,\n",
       " 'appended_rows': 0,\n",
       " 'metadata': {'columns': ['date',\n",
       "   'ts_code',\n",
       "   'trade_date',\n",
       "   'open',\n",
       "   'high',\n",
       "   'low',\n",
       "   'close',\n",
       "   'pre_close',\n",
       "   'change',\n",
       "   'pct_chg',\n",
       "   'vol',\n",
       "   'amount',\n",
       "   'adj_factor']},\n",
       " 'chunker': 'date',\n",
       " 'chunk_size': 'M',\n",
       " 'serializer': 'FrameToArray'}"
      ]
     },
     "execution_count": 9,
     "metadata": {},
     "output_type": "execute_result"
    }
   ],
   "source": [
    "lib.get_info(all_stocks[20])"
   ]
  },
  {
   "cell_type": "code",
   "execution_count": null,
   "metadata": {},
   "outputs": [],
   "source": []
  }
 ],
 "metadata": {
  "kernelspec": {
   "display_name": "Python 3.7.4 64-bit ('cvxpyenv': conda)",
   "language": "python",
   "name": "python37464bitcvxpyenvconda7109fb22449841ac9c9cd08247340af1"
  },
  "language_info": {
   "codemirror_mode": {
    "name": "ipython",
    "version": 3
   },
   "file_extension": ".py",
   "mimetype": "text/x-python",
   "name": "python",
   "nbconvert_exporter": "python",
   "pygments_lexer": "ipython3",
   "version": "3.7.4"
  }
 },
 "nbformat": 4,
 "nbformat_minor": 4
}
