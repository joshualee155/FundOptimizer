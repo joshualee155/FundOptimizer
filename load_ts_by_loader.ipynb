{
 "cells": [
  {
   "cell_type": "code",
   "execution_count": 1,
   "id": "edefed61-0d80-40c1-95fa-0a8edbbb8331",
   "metadata": {},
   "outputs": [
    {
     "name": "stderr",
     "output_type": "stream",
     "text": [
      "/home/azureuser/miniconda3/envs/fundopt/lib/python3.9/site-packages/arctic-1.80.0-py3.9.egg/arctic/store/_pandas_ndarray_store.py:8: FutureWarning: The Panel class is removed from pandas. Accessing it from the top-level namespace will also be removed in the next version\n"
     ]
    }
   ],
   "source": [
    "from fundopt.fundtsloader import getTSLoader\n",
    "import datetime as dt"
   ]
  },
  {
   "cell_type": "code",
   "execution_count": 2,
   "id": "0bcb76f7-c073-460f-b3c3-3845e37f049b",
   "metadata": {},
   "outputs": [
    {
     "data": {
      "text/plain": [
       "2020-01-01         NaN\n",
       "2020-01-02         NaN\n",
       "2020-01-03         NaN\n",
       "2020-01-06         NaN\n",
       "2020-01-07         NaN\n",
       "                ...   \n",
       "2021-05-03    0.001714\n",
       "2021-05-04    0.001711\n",
       "2021-05-05    0.001709\n",
       "2021-05-06    0.001706\n",
       "2021-05-07    0.001704\n",
       "Freq: B, Name: return, Length: 353, dtype: float64"
      ]
     },
     "execution_count": 2,
     "metadata": {},
     "output_type": "execute_result"
    }
   ],
   "source": [
    "start = dt.date(2020, 1, 1)\n",
    "end   = dt.date(2021, 5, 7)\n",
    "holding = 20\n",
    "# test for MM funds\n",
    "loader = getTSLoader('000198')\n",
    "loader.load(start, end)\n",
    "\n",
    "loader.getReturnTS(start, end, holding)"
   ]
  },
  {
   "cell_type": "code",
   "execution_count": 3,
   "id": "12c510ac-9137-4450-a632-c904ed636c0b",
   "metadata": {},
   "outputs": [],
   "source": [
    "fund_ret = _"
   ]
  },
  {
   "cell_type": "code",
   "execution_count": 4,
   "id": "84f3a27f-3d34-498e-b0bb-8282345d222c",
   "metadata": {},
   "outputs": [
    {
     "data": {
      "text/plain": [
       "<AxesSubplot:>"
      ]
     },
     "execution_count": 4,
     "metadata": {},
     "output_type": "execute_result"
    },
    {
     "data": {
      "image/png": "[encoded data removed]",
      "text/plain": [
       "<Figure size 432x288 with 1 Axes>"
      ]
     },
     "metadata": {
      "needs_background": "light"
     },
     "output_type": "display_data"
    }
   ],
   "source": [
    "fund_ret.plot()"
   ]
  },
  {
   "cell_type": "code",
   "execution_count": 5,
   "id": "d757abfd-8a7e-4dd7-91ba-cc66b98131a0",
   "metadata": {},
   "outputs": [],
   "source": [
    "loader2 = getTSLoader('020005')"
   ]
  },
  {
   "cell_type": "code",
   "execution_count": 6,
   "id": "185a3ae6-63f0-4a6e-b59f-b2f6009dfd03",
   "metadata": {},
   "outputs": [],
   "source": [
    "loader2.load(start, end)"
   ]
  },
  {
   "cell_type": "code",
   "execution_count": 7,
   "id": "8efde522-0d4a-4e1a-99f2-744ee09dca3f",
   "metadata": {},
   "outputs": [],
   "source": [
    "ret2 = loader2.getReturnTS(start, end, 20)"
   ]
  },
  {
   "cell_type": "code",
   "execution_count": 8,
   "id": "342c659e-8860-465c-8344-0a4488d53be3",
   "metadata": {},
   "outputs": [
    {
     "data": {
      "text/plain": [
       "2020-01-07         NaN\n",
       "2020-01-08         NaN\n",
       "2020-01-09         NaN\n",
       "2020-01-10         NaN\n",
       "2020-01-13         NaN\n",
       "                ...   \n",
       "2021-05-03   -0.077973\n",
       "2021-05-04   -0.028947\n",
       "2021-05-05    0.064646\n",
       "2021-05-06   -0.056037\n",
       "2021-05-07   -0.029332\n",
       "Freq: B, Length: 349, dtype: float64"
      ]
     },
     "execution_count": 8,
     "metadata": {},
     "output_type": "execute_result"
    }
   ],
   "source": [
    "ret2"
   ]
  },
  {
   "cell_type": "code",
   "execution_count": 11,
   "id": "704926c7-b522-4b11-a07b-76e2f07764da",
   "metadata": {},
   "outputs": [],
   "source": [
    "import pandas as pd"
   ]
  },
  {
   "cell_type": "code",
   "execution_count": 17,
   "id": "e9d1654c-bd81-4850-b1cc-99056210e888",
   "metadata": {},
   "outputs": [
    {
     "data": {
      "text/html": [
       "<div>\n",
       "<style scoped>\n",
       "    .dataframe tbody tr th:only-of-type {\n",
       "        vertical-align: middle;\n",
       "    }\n",
       "\n",
       "    .dataframe tbody tr th {\n",
       "        vertical-align: top;\n",
       "    }\n",
       "\n",
       "    .dataframe thead th {\n",
       "        text-align: right;\n",
       "    }\n",
       "</style>\n",
       "<table border=\"1\" class=\"dataframe\">\n",
       "  <thead>\n",
       "    <tr style=\"text-align: right;\">\n",
       "      <th></th>\n",
       "      <th>return</th>\n",
       "      <th>0</th>\n",
       "    </tr>\n",
       "  </thead>\n",
       "  <tbody>\n",
       "    <tr>\n",
       "      <th>2020-01-01</th>\n",
       "      <td>NaN</td>\n",
       "      <td>NaN</td>\n",
       "    </tr>\n",
       "    <tr>\n",
       "      <th>2020-01-02</th>\n",
       "      <td>NaN</td>\n",
       "      <td>NaN</td>\n",
       "    </tr>\n",
       "    <tr>\n",
       "      <th>2020-01-03</th>\n",
       "      <td>NaN</td>\n",
       "      <td>NaN</td>\n",
       "    </tr>\n",
       "    <tr>\n",
       "      <th>2020-01-06</th>\n",
       "      <td>NaN</td>\n",
       "      <td>NaN</td>\n",
       "    </tr>\n",
       "    <tr>\n",
       "      <th>2020-01-07</th>\n",
       "      <td>NaN</td>\n",
       "      <td>NaN</td>\n",
       "    </tr>\n",
       "    <tr>\n",
       "      <th>2020-01-08</th>\n",
       "      <td>NaN</td>\n",
       "      <td>NaN</td>\n",
       "    </tr>\n",
       "    <tr>\n",
       "      <th>2020-01-09</th>\n",
       "      <td>NaN</td>\n",
       "      <td>NaN</td>\n",
       "    </tr>\n",
       "    <tr>\n",
       "      <th>2020-01-10</th>\n",
       "      <td>NaN</td>\n",
       "      <td>NaN</td>\n",
       "    </tr>\n",
       "    <tr>\n",
       "      <th>2020-01-13</th>\n",
       "      <td>NaN</td>\n",
       "      <td>NaN</td>\n",
       "    </tr>\n",
       "    <tr>\n",
       "      <th>2020-01-14</th>\n",
       "      <td>NaN</td>\n",
       "      <td>NaN</td>\n",
       "    </tr>\n",
       "    <tr>\n",
       "      <th>2020-01-15</th>\n",
       "      <td>NaN</td>\n",
       "      <td>NaN</td>\n",
       "    </tr>\n",
       "    <tr>\n",
       "      <th>2020-01-16</th>\n",
       "      <td>NaN</td>\n",
       "      <td>NaN</td>\n",
       "    </tr>\n",
       "    <tr>\n",
       "      <th>2020-01-17</th>\n",
       "      <td>NaN</td>\n",
       "      <td>NaN</td>\n",
       "    </tr>\n",
       "    <tr>\n",
       "      <th>2020-01-20</th>\n",
       "      <td>NaN</td>\n",
       "      <td>NaN</td>\n",
       "    </tr>\n",
       "    <tr>\n",
       "      <th>2020-01-21</th>\n",
       "      <td>NaN</td>\n",
       "      <td>NaN</td>\n",
       "    </tr>\n",
       "    <tr>\n",
       "      <th>2020-01-22</th>\n",
       "      <td>NaN</td>\n",
       "      <td>NaN</td>\n",
       "    </tr>\n",
       "    <tr>\n",
       "      <th>2020-01-23</th>\n",
       "      <td>NaN</td>\n",
       "      <td>NaN</td>\n",
       "    </tr>\n",
       "    <tr>\n",
       "      <th>2020-01-24</th>\n",
       "      <td>NaN</td>\n",
       "      <td>NaN</td>\n",
       "    </tr>\n",
       "    <tr>\n",
       "      <th>2020-01-27</th>\n",
       "      <td>NaN</td>\n",
       "      <td>NaN</td>\n",
       "    </tr>\n",
       "    <tr>\n",
       "      <th>2020-01-28</th>\n",
       "      <td>NaN</td>\n",
       "      <td>NaN</td>\n",
       "    </tr>\n",
       "    <tr>\n",
       "      <th>2020-01-29</th>\n",
       "      <td>0.001908</td>\n",
       "      <td>NaN</td>\n",
       "    </tr>\n",
       "    <tr>\n",
       "      <th>2020-01-30</th>\n",
       "      <td>0.001906</td>\n",
       "      <td>NaN</td>\n",
       "    </tr>\n",
       "    <tr>\n",
       "      <th>2020-01-31</th>\n",
       "      <td>0.001904</td>\n",
       "      <td>NaN</td>\n",
       "    </tr>\n",
       "    <tr>\n",
       "      <th>2020-02-03</th>\n",
       "      <td>0.001900</td>\n",
       "      <td>NaN</td>\n",
       "    </tr>\n",
       "    <tr>\n",
       "      <th>2020-02-04</th>\n",
       "      <td>0.001900</td>\n",
       "      <td>-0.282906</td>\n",
       "    </tr>\n",
       "    <tr>\n",
       "      <th>2020-02-05</th>\n",
       "      <td>0.001909</td>\n",
       "      <td>-0.236865</td>\n",
       "    </tr>\n",
       "    <tr>\n",
       "      <th>2020-02-06</th>\n",
       "      <td>0.001907</td>\n",
       "      <td>-0.262891</td>\n",
       "    </tr>\n",
       "    <tr>\n",
       "      <th>2020-02-07</th>\n",
       "      <td>0.001906</td>\n",
       "      <td>-0.303005</td>\n",
       "    </tr>\n",
       "    <tr>\n",
       "      <th>2020-02-10</th>\n",
       "      <td>0.001901</td>\n",
       "      <td>-0.363804</td>\n",
       "    </tr>\n",
       "    <tr>\n",
       "      <th>2020-02-11</th>\n",
       "      <td>0.001897</td>\n",
       "      <td>-0.272388</td>\n",
       "    </tr>\n",
       "  </tbody>\n",
       "</table>\n",
       "</div>"
      ],
      "text/plain": [
       "              return         0\n",
       "2020-01-01       NaN       NaN\n",
       "2020-01-02       NaN       NaN\n",
       "2020-01-03       NaN       NaN\n",
       "2020-01-06       NaN       NaN\n",
       "2020-01-07       NaN       NaN\n",
       "2020-01-08       NaN       NaN\n",
       "2020-01-09       NaN       NaN\n",
       "2020-01-10       NaN       NaN\n",
       "2020-01-13       NaN       NaN\n",
       "2020-01-14       NaN       NaN\n",
       "2020-01-15       NaN       NaN\n",
       "2020-01-16       NaN       NaN\n",
       "2020-01-17       NaN       NaN\n",
       "2020-01-20       NaN       NaN\n",
       "2020-01-21       NaN       NaN\n",
       "2020-01-22       NaN       NaN\n",
       "2020-01-23       NaN       NaN\n",
       "2020-01-24       NaN       NaN\n",
       "2020-01-27       NaN       NaN\n",
       "2020-01-28       NaN       NaN\n",
       "2020-01-29  0.001908       NaN\n",
       "2020-01-30  0.001906       NaN\n",
       "2020-01-31  0.001904       NaN\n",
       "2020-02-03  0.001900       NaN\n",
       "2020-02-04  0.001900 -0.282906\n",
       "2020-02-05  0.001909 -0.236865\n",
       "2020-02-06  0.001907 -0.262891\n",
       "2020-02-07  0.001906 -0.303005\n",
       "2020-02-10  0.001901 -0.363804\n",
       "2020-02-11  0.001897 -0.272388"
      ]
     },
     "execution_count": 17,
     "metadata": {},
     "output_type": "execute_result"
    }
   ],
   "source": [
    "pd.concat([fund_ret, ret2], axis=1).head(30)"
   ]
  },
  {
   "cell_type": "code",
   "execution_count": 19,
   "id": "0228b435-0bc2-44d6-9579-2fe21ea9af11",
   "metadata": {},
   "outputs": [],
   "source": [
    "loader2._rawData.to_csv('020005.csv')"
   ]
  },
  {
   "cell_type": "code",
   "execution_count": 30,
   "id": "6fcf3a71-4304-4607-87ca-7709929ac4dd",
   "metadata": {},
   "outputs": [
    {
     "data": {
      "text/plain": [
       "<AxesSubplot:xlabel='NAV', ylabel='ACC_NAV'>"
      ]
     },
     "execution_count": 30,
     "metadata": {},
     "output_type": "execute_result"
    },
    {
     "data": {
      "image/png": "[encoded data removed]",
      "text/plain": [
       "<Figure size 432x288 with 1 Axes>"
      ]
     },
     "metadata": {
      "needs_background": "light"
     },
     "output_type": "display_data"
    }
   ],
   "source": [
    "loader2._rawData.diff().plot.scatter('NAV', 'ACC_NAV')"
   ]
  },
  {
   "cell_type": "code",
   "execution_count": 36,
   "id": "4a0d7289-831d-4e70-8092-a690fd72924b",
   "metadata": {},
   "outputs": [],
   "source": [
    "diff_nav = loader2._rawData.diff().dropna() # remove the first entry"
   ]
  },
  {
   "cell_type": "code",
   "execution_count": 45,
   "id": "ef571670-0709-4e3d-88ca-a028d17a7c44",
   "metadata": {},
   "outputs": [],
   "source": [
    "x = diff_nav['NAV']\n",
    "y = diff_nav['ACC_NAV']"
   ]
  },
  {
   "cell_type": "code",
   "execution_count": 37,
   "id": "64b117e4-536f-4cd8-af79-b77aac8e842c",
   "metadata": {},
   "outputs": [],
   "source": [
    "from scipy.stats import linregress"
   ]
  },
  {
   "cell_type": "code",
   "execution_count": 46,
   "id": "8d5545c9-3c72-43d5-9e8d-e5c2a68fc458",
   "metadata": {},
   "outputs": [],
   "source": [
    "res = linregress(x, y)"
   ]
  },
  {
   "cell_type": "code",
   "execution_count": 47,
   "id": "3865f279-3216-4e43-9696-299bdd3baab9",
   "metadata": {},
   "outputs": [],
   "source": [
    "b, a = res.intercept, res.slope"
   ]
  },
  {
   "cell_type": "code",
   "execution_count": 48,
   "id": "a351de75-c0d5-434f-a4a8-1e6f5ea97658",
   "metadata": {},
   "outputs": [],
   "source": [
    "y_hat = a*x+b"
   ]
  },
  {
   "cell_type": "code",
   "execution_count": 49,
   "id": "9b58d2fe-78fa-4668-8452-9069f4636d94",
   "metadata": {},
   "outputs": [],
   "source": [
    "residual = y - y_hat"
   ]
  },
  {
   "cell_type": "code",
   "execution_count": 52,
   "id": "e2e9518e-334b-4f50-95c7-967faccdd66c",
   "metadata": {},
   "outputs": [],
   "source": [
    "import matplotlib.pyplot as plt"
   ]
  },
  {
   "cell_type": "code",
   "execution_count": 53,
   "id": "ab2111f2-42d0-4166-b0e1-c97f34e55380",
   "metadata": {},
   "outputs": [
    {
     "data": {
      "text/plain": [
       "<matplotlib.collections.PathCollection at 0x7fd334a57dc0>"
      ]
     },
     "execution_count": 53,
     "metadata": {},
     "output_type": "execute_result"
    },
    {
     "data": {
      "image/png": "[encoded data removed]",
      "text/plain": [
       "<Figure size 432x288 with 1 Axes>"
      ]
     },
     "metadata": {
      "needs_background": "light"
     },
     "output_type": "display_data"
    }
   ],
   "source": [
    "plt.plot(x, y_hat)\n",
    "plt.scatter(x, y)"
   ]
  },
  {
   "cell_type": "code",
   "execution_count": 60,
   "id": "f9aa6271-ada3-4edf-a3c6-c1d4fcfa6709",
   "metadata": {},
   "outputs": [],
   "source": [
    "from sklearn.linear_model import HuberRegressor, TheilSenRegressor, RANSACRegressor, LinearRegression"
   ]
  },
  {
   "cell_type": "code",
   "execution_count": 62,
   "id": "0f0d1b63-9d40-41cc-a389-f3c95dce2a77",
   "metadata": {},
   "outputs": [],
   "source": [
    "linear = LinearRegression(fit_intercept=False)\n",
    "huber = HuberRegressor(fit_intercept=False)\n",
    "theil = TheilSenRegressor(fit_intercept=False)\n",
    "ransac = RANSACRegressor(base_estimator=LinearRegression(fit_intercept=False))"
   ]
  },
  {
   "cell_type": "code",
   "execution_count": 64,
   "id": "66843f0d-070c-4485-9e5a-e6bed2f5e5f6",
   "metadata": {},
   "outputs": [],
   "source": [
    "X = x[:, None]"
   ]
  },
  {
   "cell_type": "code",
   "execution_count": 66,
   "id": "d43990b1-623c-4c8e-81f6-3a985357644a",
   "metadata": {},
   "outputs": [
    {
     "data": {
      "text/plain": [
       "(array([2.70112827]), 0.0)"
      ]
     },
     "execution_count": 66,
     "metadata": {},
     "output_type": "execute_result"
    }
   ],
   "source": [
    "linear.fit(X, y)\n",
    "linear.coef_, linear.intercept_"
   ]
  },
  {
   "cell_type": "code",
   "execution_count": 65,
   "id": "6e6bba18-e1f3-47df-be65-0cff5bc6fab8",
   "metadata": {},
   "outputs": [
    {
     "data": {
      "text/plain": [
       "(array([4.]), 0.0)"
      ]
     },
     "execution_count": 65,
     "metadata": {},
     "output_type": "execute_result"
    }
   ],
   "source": [
    "huber.fit(X, y)\n",
    "huber.coef_, huber.intercept_"
   ]
  },
  {
   "cell_type": "code",
   "execution_count": 67,
   "id": "78479a84-899e-4381-b21c-859ba2779060",
   "metadata": {},
   "outputs": [
    {
     "data": {
      "text/plain": [
       "(array([4.]), 0.0)"
      ]
     },
     "execution_count": 67,
     "metadata": {},
     "output_type": "execute_result"
    }
   ],
   "source": [
    "theil.fit(X, y)\n",
    "theil.coef_, theil.intercept_"
   ]
  },
  {
   "cell_type": "code",
   "execution_count": null,
   "id": "19b3c926-5d79-4b3c-ae1a-f72c03813eab",
   "metadata": {},
   "outputs": [],
   "source": [
    "theil.score"
   ]
  },
  {
   "cell_type": "code",
   "execution_count": 69,
   "id": "4197f3c9-5119-47d3-8d0d-a36bbb60a9f0",
   "metadata": {},
   "outputs": [
    {
     "data": {
      "text/plain": [
       "(array([3.99023127]), 0.0)"
      ]
     },
     "execution_count": 69,
     "metadata": {},
     "output_type": "execute_result"
    }
   ],
   "source": [
    "ransac.fit(X, y)\n",
    "ransac.estimator_.coef_, ransac.estimator_.intercept_"
   ]
  },
  {
   "cell_type": "code",
   "execution_count": 77,
   "id": "32a3745c-8cc9-45d1-84b3-f4b82bd36079",
   "metadata": {},
   "outputs": [],
   "source": [
    "x = 5\n",
    "y = 6\n",
    "s = '{0}+{1}={2}, {1}+{0}={2}'.format(x, y, x+y)"
   ]
  },
  {
   "cell_type": "code",
   "execution_count": 105,
   "id": "a1907615-20f9-40cd-a203-7ea12b3e7626",
   "metadata": {},
   "outputs": [
    {
     "ename": "NameError",
     "evalue": "name 'f' is not defined",
     "output_type": "error",
     "traceback": [
      "\u001b[0;31m---------------------------------------------------------------------------\u001b[0m",
      "\u001b[0;31mNameError\u001b[0m                                 Traceback (most recent call last)",
      "\u001b[0;32m<ipython-input-105-328dd34a981c>\u001b[0m in \u001b[0;36m<module>\u001b[0;34m\u001b[0m\n\u001b[0;32m----> 1\u001b[0;31m \u001b[0ms\u001b[0m \u001b[0;34m=\u001b[0m \u001b[0mf\u001b[0m\u001b[0;34m(\u001b[0m\u001b[0;34m'{x:0%db}'\u001b[0m \u001b[0;34m%\u001b[0m \u001b[0;36m4\u001b[0m\u001b[0;34m)\u001b[0m\u001b[0;34m\u001b[0m\u001b[0;34m\u001b[0m\u001b[0m\n\u001b[0m",
      "\u001b[0;31mNameError\u001b[0m: name 'f' is not defined"
     ]
    }
   ],
   "source": [
    "s = f('{x:0%db}' % 4)"
   ]
  },
  {
   "cell_type": "code",
   "execution_count": null,
   "id": "59829d7f-2012-464f-9bd1-aefe4884f351",
   "metadata": {},
   "outputs": [],
   "source": []
  },
  {
   "cell_type": "code",
   "execution_count": null,
   "id": "31f957a9-818e-4e8c-ae28-9f6a82cdddda",
   "metadata": {},
   "outputs": [],
   "source": []
  },
  {
   "cell_type": "code",
   "execution_count": null,
   "id": "3500fb3f-a77f-4ec1-b030-deaba7a0ea19",
   "metadata": {},
   "outputs": [],
   "source": []
  },
  {
   "cell_type": "code",
   "execution_count": 87,
   "id": "d2da907a-3e35-4686-b5ae-749f30faf4ea",
   "metadata": {},
   "outputs": [
    {
     "data": {
      "text/plain": [
       "'4.000000'"
      ]
     },
     "execution_count": 87,
     "metadata": {},
     "output_type": "execute_result"
    }
   ],
   "source": [
    "'%f' % "
   ]
  },
  {
   "cell_type": "code",
   "execution_count": null,
   "id": "8e07fcdb-7e99-417a-a3d9-834f7b51c1e5",
   "metadata": {},
   "outputs": [],
   "source": []
  },
  {
   "cell_type": "code",
   "execution_count": null,
   "id": "4632fe86-602b-47e4-ae4e-cf8c34232b52",
   "metadata": {},
   "outputs": [],
   "source": []
  },
  {
   "cell_type": "code",
   "execution_count": null,
   "id": "6124802c-86c2-4f2e-a6d7-78f75bad7401",
   "metadata": {},
   "outputs": [],
   "source": []
  },
  {
   "cell_type": "code",
   "execution_count": 20,
   "id": "671f9656-89a0-4dd9-a1ad-ada3b738a67f",
   "metadata": {},
   "outputs": [],
   "source": [
    "loader3 = getTSLoader('159909')"
   ]
  },
  {
   "cell_type": "code",
   "execution_count": 21,
   "id": "08fb1d19-f908-4a5a-964d-40e573f0e1b5",
   "metadata": {},
   "outputs": [],
   "source": [
    "loader3.load(start, end)"
   ]
  },
  {
   "cell_type": "code",
   "execution_count": 28,
   "id": "0d727611-0307-4908-9680-285f46c8b5ca",
   "metadata": {},
   "outputs": [
    {
     "data": {
      "text/plain": [
       "<AxesSubplot:xlabel='NAV', ylabel='ACC_NAV'>"
      ]
     },
     "execution_count": 28,
     "metadata": {},
     "output_type": "execute_result"
    },
    {
     "data": {
      "image/png": "[encoded data removed]",
      "text/plain": [
       "<Figure size 432x288 with 1 Axes>"
      ]
     },
     "metadata": {
      "needs_background": "light"
     },
     "output_type": "display_data"
    }
   ],
   "source": [
    "loader3._rawData.diff().plot.scatter('NAV', 'ACC_NAV')"
   ]
  },
  {
   "cell_type": "code",
   "execution_count": 29,
   "id": "56a2e208-2076-4b71-9b4f-3892fe7048af",
   "metadata": {},
   "outputs": [
    {
     "data": {
      "text/html": [
       "<div>\n",
       "<style scoped>\n",
       "    .dataframe tbody tr th:only-of-type {\n",
       "        vertical-align: middle;\n",
       "    }\n",
       "\n",
       "    .dataframe tbody tr th {\n",
       "        vertical-align: top;\n",
       "    }\n",
       "\n",
       "    .dataframe thead th {\n",
       "        text-align: right;\n",
       "    }\n",
       "</style>\n",
       "<table border=\"1\" class=\"dataframe\">\n",
       "  <thead>\n",
       "    <tr style=\"text-align: right;\">\n",
       "      <th></th>\n",
       "      <th>NAV</th>\n",
       "      <th>ACC_NAV</th>\n",
       "    </tr>\n",
       "  </thead>\n",
       "  <tbody>\n",
       "    <tr>\n",
       "      <th>2021-03-10</th>\n",
       "      <td>-6.1544</td>\n",
       "      <td>0.0079</td>\n",
       "    </tr>\n",
       "  </tbody>\n",
       "</table>\n",
       "</div>"
      ],
      "text/plain": [
       "               NAV  ACC_NAV\n",
       "2021-03-10 -6.1544   0.0079"
      ]
     },
     "execution_count": 29,
     "metadata": {},
     "output_type": "execute_result"
    }
   ],
   "source": [
    "loader3._rawData.diff().query('NAV < -1')"
   ]
  },
  {
   "cell_type": "code",
   "execution_count": null,
   "id": "3bf2b71f-6cb9-4963-b0df-a11be6ff7789",
   "metadata": {},
   "outputs": [],
   "source": [
    "loader3._rawData"
   ]
  }
 ],
 "metadata": {
  "kernelspec": {
   "display_name": "Python 3",
   "language": "python",
   "name": "python3"
  },
  "language_info": {
   "codemirror_mode": {
    "name": "ipython",
    "version": 3
   },
   "file_extension": ".py",
   "mimetype": "text/x-python",
   "name": "python",
   "nbconvert_exporter": "python",
   "pygments_lexer": "ipython3",
   "version": "3.9.4"
  }
 },
 "nbformat": 4,
 "nbformat_minor": 5
}
